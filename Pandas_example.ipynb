{
 "cells": [
  {
   "cell_type": "markdown",
   "metadata": {},
   "source": [
    "#### Code to learn Pandas"
   ]
  },
  {
   "cell_type": "code",
   "execution_count": 1,
   "metadata": {},
   "outputs": [],
   "source": [
    "import pandas as pd"
   ]
  },
  {
   "cell_type": "code",
   "execution_count": 2,
   "metadata": {},
   "outputs": [
    {
     "name": "stdout",
     "output_type": "stream",
     "text": [
      "   0\n",
      "0  1\n",
      "1  2\n",
      "2  3\n",
      "3  4\n"
     ]
    }
   ],
   "source": [
    "# Create Dataframe from one dimensional list\n",
    "listdata = [1, 2, 3, 4]\n",
    "df = pd.DataFrame(listdata)\n",
    "print(df)"
   ]
  },
  {
   "cell_type": "code",
   "execution_count": 3,
   "metadata": {},
   "outputs": [
    {
     "name": "stdout",
     "output_type": "stream",
     "text": [
      "                   0      1\n",
      "0              Saket     10\n",
      "1           Dr Saket      5\n",
      "2  Dr. S K Choudhary  15000\n"
     ]
    }
   ],
   "source": [
    "# Create Dataframe from two dimensional list\n",
    "listdata2 = [['Saket', 10], ['Dr Saket', 5], ['Dr. S K Choudhary', 15000]]\n",
    "df1 = pd.DataFrame(listdata2)\n",
    "print(df1)"
   ]
  },
  {
   "cell_type": "code",
   "execution_count": 5,
   "metadata": {},
   "outputs": [
    {
     "name": "stdout",
     "output_type": "stream",
     "text": [
      "                Name      Exp\n",
      "0              Saket     10.0\n",
      "1           Dr Saket      5.0\n",
      "2  Dr. S K Choudhary  15000.0\n"
     ]
    }
   ],
   "source": [
    "# Create column name and data type in data frame\n",
    "df2 = pd.DataFrame(listdata2, columns=['Name', 'Exp'], dtype=float)\n",
    "print(df2)"
   ]
  },
  {
   "cell_type": "code",
   "execution_count": 6,
   "metadata": {},
   "outputs": [
    {
     "name": "stdout",
     "output_type": "stream",
     "text": [
      "     name  age\n",
      "r1  Saket  3.0\n",
      "r2  kumar  5.0\n"
     ]
    }
   ],
   "source": [
    "# Create Dataframe from a dictionary and index\n",
    "dict1 = {\n",
    "    \"name\": [\"Saket\", \"kumar\"],\n",
    "    \"age\": [3, 5]\n",
    "}\n",
    "df3 = pd.DataFrame(dict1, index=['r1', 'r2'], dtype=float)\n",
    "print(df3)"
   ]
  },
  {
   "cell_type": "code",
   "execution_count": null,
   "metadata": {},
   "outputs": [],
   "source": []
  }
 ],
 "metadata": {
  "kernelspec": {
   "display_name": "Python 3",
   "language": "python",
   "name": "python3"
  },
  "language_info": {
   "codemirror_mode": {
    "name": "ipython",
    "version": 3
   },
   "file_extension": ".py",
   "mimetype": "text/x-python",
   "name": "python",
   "nbconvert_exporter": "python",
   "pygments_lexer": "ipython3",
   "version": "3.8.5"
  }
 },
 "nbformat": 4,
 "nbformat_minor": 4
}
