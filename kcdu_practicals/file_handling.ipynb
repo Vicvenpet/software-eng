{
 "cells": [
  {
   "cell_type": "markdown",
   "metadata": {},
   "source": [
    "** File Handling in Python **"
   ]
  },
  {
   "cell_type": "markdown",
   "metadata": {},
   "source": [
    "#Type of files: .txt, text, .json, .xml, .html, .htm, .csv, .xls, .xlsx, .dat, .mp4, .jpg, .jpeg, .png, .pdf, .yaml and many others #"
   ]
  },
  {
   "cell_type": "code",
   "execution_count": 1,
   "metadata": {},
   "outputs": [],
   "source": [
    "import json"
   ]
  },
  {
   "cell_type": "code",
   "execution_count": 2,
   "metadata": {},
   "outputs": [],
   "source": [
    "file_name = \"swagger.json\""
   ]
  },
  {
   "cell_type": "code",
   "execution_count": 3,
   "metadata": {
    "scrolled": true
   },
   "outputs": [
    {
     "name": "stdout",
     "output_type": "stream",
     "text": [
      "{'swagger': '2.0', 'info': {'version': '0.1', 'title': 'SSTech API demo'}, 'basePath': '/api/', 'consumes': ['application/json'], 'produces': ['application/json'], 'paths': {'/generate-token': {'get': {'tags': ['Authentication'], 'summary': 'Get authentization token for communicating with this service', 'operationId': 'tokens_generate_token', 'parameters': [], 'responses': {'200': {'description': 'Authentization token'}, '401': {'description': 'No suitable permissions'}}}}, '/devices/accessed/': {'get': {'tags': ['/'], 'summary': 'Accessed devices', 'description': 'Aceesed Devices by the user', 'operationId': 'devices-accessed', 'produces': ['application/xml', 'application/json'], 'parameters': [{'name': 'userid', 'in': 'path', 'type': 'integer', 'required': True, 'description': 'Id of the user'}], 'responses': {'200': {'description': 'successful operation'}}}}, '/devices/': {'get': {'tags': ['/'], 'summary': 'All devices', 'description': 'All Devices used by an user', 'operationId': 'devices', 'produces': ['application/xml', 'application/json'], 'parameters': [{'name': 'userid', 'in': 'path', 'type': 'integer', 'required': True, 'description': 'Id of the user'}, {'name': 'page', 'in': 'query', 'type': 'integer', 'required': True}], 'responses': {'200': {'description': 'successful operation'}}}}, '/emails/': {'get': {'tags': ['/'], 'summary': 'All emails', 'description': 'email list of an user an user', 'operationId': 'emails', 'produces': ['application/xml', 'application/json'], 'parameters': [{'name': 'userid', 'in': 'path', 'type': 'integer', 'required': True, 'description': 'Id of the user'}, {'name': 'page', 'in': 'query', 'type': 'integer', 'required': True}], 'responses': {'200': {'description': 'successful operation'}}}}, '/header/scores/': {'get': {'tags': ['/'], 'summary': 'Header score', 'description': 'All header score', 'operationId': 'header', 'produces': ['application/xml', 'application/json'], 'responses': {'200': {'description': 'successful operation'}}}}, '/history/': {'get': {'tags': ['/'], 'summary': 'History of an end user', 'description': 'User history', 'operationId': 'userhistory', 'produces': ['application/xml', 'application/json'], 'parameters': [{'name': 'userid', 'in': 'path', 'type': 'integer', 'required': True, 'description': 'Id of the user'}], 'responses': {'200': {'description': 'successful operation'}}}}, '/login/patterns/': {'get': {'tags': ['/'], 'summary': 'Login patterns', 'description': 'Login pattern of an end user', 'operationId': 'loginpattern', 'produces': ['application/xml', 'application/json'], 'parameters': [{'name': 'userid', 'in': 'path', 'type': 'integer', 'required': True, 'description': 'Id of the user'}], 'responses': {'200': {'description': 'successful operation'}}}}, '/password/patterns/': {'get': {'tags': ['/'], 'summary': 'Passwrod pattern', 'description': 'Password pattern of an user', 'operationId': 'passwordpattern', 'produces': ['application/xml', 'application/json'], 'parameters': [{'name': 'userid', 'in': 'path', 'type': 'integer', 'required': True, 'description': 'Id of the user'}], 'responses': {'200': {'description': 'successful operation'}}}}, '/watchlist/': {'get': {'tags': ['/'], 'summary': 'Watchlist', 'description': 'List of watched items', 'operationId': 'watchlist', 'produces': ['application/xml', 'application/json'], 'parameters': [{'name': 'userid', 'in': 'path', 'type': 'integer', 'required': True, 'description': 'Id of the user'}], 'responses': {'200': {'description': 'successful operation'}}}}, '/web/traffic/': {'get': {'tags': ['/'], 'summary': 'Web traffic', 'description': 'Traffic on the web', 'operationId': 'web traffic', 'produces': ['application/xml', 'application/json'], 'parameters': [{'name': 'userid', 'in': 'path', 'type': 'integer', 'required': True, 'description': 'Id of the user'}], 'responses': {'200': {'description': 'successful operation'}}}}, '/suspicious/login/': {'get': {'tags': ['/'], 'summary': 'Suspicious login', 'description': 'Suspicious logins', 'operationId': 'suscipiouslogin', 'produces': ['application/xml', 'application/json'], 'responses': {'200': {'description': 'successful operation'}}}}, '/risk/user/': {'put': {'tags': ['/'], 'summary': 'Update risky users', 'description': 'risk associated with user', 'operationId': 'updatersik', 'produces': ['application/xml', 'application/json'], 'parameters': [{'name': 'userid', 'in': 'path', 'type': 'integer', 'required': True, 'description': 'Id of the user'}, {'name': 'comment', 'in': 'path', 'type': 'string', 'required': True, 'description': 'Comment made'}, {'name': 'status', 'in': 'path', 'type': 'boolean', 'required': True, 'description': 'Status of the user'}, {'name': 'event_date', 'in': 'path', 'type': 'string', 'required': True, 'description': 'Date of event happening'}], 'responses': {'200': {'description': 'successful updated'}}}}, '/risky/behavior/': {'get': {'tags': ['risky'], 'summary': 'Risky behavior', 'description': 'Behavior associated with risk', 'operationId': 'riskybehav', 'produces': ['application/xml', 'application/json'], 'responses': {'200': {'description': 'successful operation'}}}}, '/risky/emails/': {'get': {'tags': ['risky'], 'summary': 'Risky emails', 'description': 'List of all risky emails', 'operationId': 'riskyemails', 'produces': ['application/xml', 'application/json'], 'responses': {'200': {'description': 'successful operation'}}}}, '/risky/users/': {'get': {'tags': ['risky'], 'summary': 'Risky users', 'description': 'List of risky users', 'operationId': 'riskyuser', 'produces': ['application/xml', 'application/json'], 'responses': {'200': {'description': 'successful operation'}}}}, '/risky/webactivity/': {'get': {'tags': ['risky'], 'summary': 'Risky webactivity', 'description': 'List of web activity which has associated risk', 'operationId': 'riskywebact', 'produces': ['application/xml', 'application/json'], 'responses': {'200': {'description': 'successful operation'}}}}, '/risky/user/list/': {'get': {'tags': ['risky'], 'summary': 'Risky users list', 'description': 'List of all risky users', 'operationId': 'riskyuserlist', 'produces': ['application/xml', 'application/json'], 'parameters': [{'name': 'page', 'in': 'path', 'type': 'integer', 'required': True, 'description': 'Page number'}], 'responses': {'200': {'description': 'successful operation'}}}}, '/risky/user/search/': {'get': {'tags': ['risky'], 'summary': 'Risky user search', 'description': 'Search risky users', 'operationId': 'riskyusersearch', 'produces': ['application/xml', 'application/json'], 'parameters': [{'name': 'query', 'in': 'query', 'type': 'string', 'required': True, 'description': 'Query containg the search criteria'}], 'responses': {'200': {'description': 'successful operation'}}}}, '/users/loginattempts/': {'get': {'tags': ['user'], 'summary': 'Login attempts', 'description': 'Number of attempts made by user for login', 'operationId': 'loginattempts', 'produces': ['application/xml', 'application/json'], 'parameters': [{'name': 'userid', 'in': 'path', 'type': 'integer', 'required': True, 'description': 'Id of the user'}], 'responses': {'200': {'description': 'successful operation'}}}}, '/user/class/count/': {'get': {'tags': ['user'], 'summary': 'Class count', 'description': 'Count of classes', 'operationId': 'classcount', 'produces': ['application/xml', 'application/json'], 'responses': {'200': {'description': 'successful operation'}}}}, '/user/constants/': {'get': {'tags': ['user'], 'summary': 'User constnat', 'description': 'User constants', 'operationId': 'userconstant', 'produces': ['application/xml', 'application/json'], 'parameters': [{'name': 'userid', 'in': 'path', 'type': 'integer', 'required': True, 'description': 'Id of the user'}], 'responses': {'200': {'description': 'successful operation'}}}}, '/user/risk/score/': {'get': {'tags': ['user'], 'summary': 'Risk score', 'description': 'Score associated with the risk', 'operationId': 'riskscore', 'produces': ['application/xml', 'application/json'], 'parameters': [{'name': 'userid', 'in': 'path', 'type': 'integer', 'required': True, 'description': 'Id of the user'}], 'responses': {'200': {'description': 'successful operation'}}}}}}\n"
     ]
    }
   ],
   "source": [
    "with open(file_name) as f:\n",
    "    raw_data = json.load(f)\n",
    "print(raw_data)"
   ]
  },
  {
   "cell_type": "code",
   "execution_count": 4,
   "metadata": {},
   "outputs": [
    {
     "data": {
      "text/plain": [
       "6"
      ]
     },
     "execution_count": 4,
     "metadata": {},
     "output_type": "execute_result"
    }
   ],
   "source": [
    "len(raw_data)"
   ]
  },
  {
   "cell_type": "code",
   "execution_count": 5,
   "metadata": {},
   "outputs": [
    {
     "data": {
      "text/plain": [
       "dict_keys(['swagger', 'info', 'basePath', 'consumes', 'produces', 'paths'])"
      ]
     },
     "execution_count": 5,
     "metadata": {},
     "output_type": "execute_result"
    }
   ],
   "source": [
    "raw_data.keys()"
   ]
  },
  {
   "cell_type": "code",
   "execution_count": 6,
   "metadata": {},
   "outputs": [
    {
     "name": "stdout",
     "output_type": "stream",
     "text": [
      "swagger and 2.0\n",
      "info and {'version': '0.1', 'title': 'SSTech API demo'}\n",
      "basePath and /api/\n",
      "consumes and ['application/json']\n",
      "produces and ['application/json']\n",
      "paths and {'/generate-token': {'get': {'tags': ['Authentication'], 'summary': 'Get authentization token for communicating with this service', 'operationId': 'tokens_generate_token', 'parameters': [], 'responses': {'200': {'description': 'Authentization token'}, '401': {'description': 'No suitable permissions'}}}}, '/devices/accessed/': {'get': {'tags': ['/'], 'summary': 'Accessed devices', 'description': 'Aceesed Devices by the user', 'operationId': 'devices-accessed', 'produces': ['application/xml', 'application/json'], 'parameters': [{'name': 'userid', 'in': 'path', 'type': 'integer', 'required': True, 'description': 'Id of the user'}], 'responses': {'200': {'description': 'successful operation'}}}}, '/devices/': {'get': {'tags': ['/'], 'summary': 'All devices', 'description': 'All Devices used by an user', 'operationId': 'devices', 'produces': ['application/xml', 'application/json'], 'parameters': [{'name': 'userid', 'in': 'path', 'type': 'integer', 'required': True, 'description': 'Id of the user'}, {'name': 'page', 'in': 'query', 'type': 'integer', 'required': True}], 'responses': {'200': {'description': 'successful operation'}}}}, '/emails/': {'get': {'tags': ['/'], 'summary': 'All emails', 'description': 'email list of an user an user', 'operationId': 'emails', 'produces': ['application/xml', 'application/json'], 'parameters': [{'name': 'userid', 'in': 'path', 'type': 'integer', 'required': True, 'description': 'Id of the user'}, {'name': 'page', 'in': 'query', 'type': 'integer', 'required': True}], 'responses': {'200': {'description': 'successful operation'}}}}, '/header/scores/': {'get': {'tags': ['/'], 'summary': 'Header score', 'description': 'All header score', 'operationId': 'header', 'produces': ['application/xml', 'application/json'], 'responses': {'200': {'description': 'successful operation'}}}}, '/history/': {'get': {'tags': ['/'], 'summary': 'History of an end user', 'description': 'User history', 'operationId': 'userhistory', 'produces': ['application/xml', 'application/json'], 'parameters': [{'name': 'userid', 'in': 'path', 'type': 'integer', 'required': True, 'description': 'Id of the user'}], 'responses': {'200': {'description': 'successful operation'}}}}, '/login/patterns/': {'get': {'tags': ['/'], 'summary': 'Login patterns', 'description': 'Login pattern of an end user', 'operationId': 'loginpattern', 'produces': ['application/xml', 'application/json'], 'parameters': [{'name': 'userid', 'in': 'path', 'type': 'integer', 'required': True, 'description': 'Id of the user'}], 'responses': {'200': {'description': 'successful operation'}}}}, '/password/patterns/': {'get': {'tags': ['/'], 'summary': 'Passwrod pattern', 'description': 'Password pattern of an user', 'operationId': 'passwordpattern', 'produces': ['application/xml', 'application/json'], 'parameters': [{'name': 'userid', 'in': 'path', 'type': 'integer', 'required': True, 'description': 'Id of the user'}], 'responses': {'200': {'description': 'successful operation'}}}}, '/watchlist/': {'get': {'tags': ['/'], 'summary': 'Watchlist', 'description': 'List of watched items', 'operationId': 'watchlist', 'produces': ['application/xml', 'application/json'], 'parameters': [{'name': 'userid', 'in': 'path', 'type': 'integer', 'required': True, 'description': 'Id of the user'}], 'responses': {'200': {'description': 'successful operation'}}}}, '/web/traffic/': {'get': {'tags': ['/'], 'summary': 'Web traffic', 'description': 'Traffic on the web', 'operationId': 'web traffic', 'produces': ['application/xml', 'application/json'], 'parameters': [{'name': 'userid', 'in': 'path', 'type': 'integer', 'required': True, 'description': 'Id of the user'}], 'responses': {'200': {'description': 'successful operation'}}}}, '/suspicious/login/': {'get': {'tags': ['/'], 'summary': 'Suspicious login', 'description': 'Suspicious logins', 'operationId': 'suscipiouslogin', 'produces': ['application/xml', 'application/json'], 'responses': {'200': {'description': 'successful operation'}}}}, '/risk/user/': {'put': {'tags': ['/'], 'summary': 'Update risky users', 'description': 'risk associated with user', 'operationId': 'updatersik', 'produces': ['application/xml', 'application/json'], 'parameters': [{'name': 'userid', 'in': 'path', 'type': 'integer', 'required': True, 'description': 'Id of the user'}, {'name': 'comment', 'in': 'path', 'type': 'string', 'required': True, 'description': 'Comment made'}, {'name': 'status', 'in': 'path', 'type': 'boolean', 'required': True, 'description': 'Status of the user'}, {'name': 'event_date', 'in': 'path', 'type': 'string', 'required': True, 'description': 'Date of event happening'}], 'responses': {'200': {'description': 'successful updated'}}}}, '/risky/behavior/': {'get': {'tags': ['risky'], 'summary': 'Risky behavior', 'description': 'Behavior associated with risk', 'operationId': 'riskybehav', 'produces': ['application/xml', 'application/json'], 'responses': {'200': {'description': 'successful operation'}}}}, '/risky/emails/': {'get': {'tags': ['risky'], 'summary': 'Risky emails', 'description': 'List of all risky emails', 'operationId': 'riskyemails', 'produces': ['application/xml', 'application/json'], 'responses': {'200': {'description': 'successful operation'}}}}, '/risky/users/': {'get': {'tags': ['risky'], 'summary': 'Risky users', 'description': 'List of risky users', 'operationId': 'riskyuser', 'produces': ['application/xml', 'application/json'], 'responses': {'200': {'description': 'successful operation'}}}}, '/risky/webactivity/': {'get': {'tags': ['risky'], 'summary': 'Risky webactivity', 'description': 'List of web activity which has associated risk', 'operationId': 'riskywebact', 'produces': ['application/xml', 'application/json'], 'responses': {'200': {'description': 'successful operation'}}}}, '/risky/user/list/': {'get': {'tags': ['risky'], 'summary': 'Risky users list', 'description': 'List of all risky users', 'operationId': 'riskyuserlist', 'produces': ['application/xml', 'application/json'], 'parameters': [{'name': 'page', 'in': 'path', 'type': 'integer', 'required': True, 'description': 'Page number'}], 'responses': {'200': {'description': 'successful operation'}}}}, '/risky/user/search/': {'get': {'tags': ['risky'], 'summary': 'Risky user search', 'description': 'Search risky users', 'operationId': 'riskyusersearch', 'produces': ['application/xml', 'application/json'], 'parameters': [{'name': 'query', 'in': 'query', 'type': 'string', 'required': True, 'description': 'Query containg the search criteria'}], 'responses': {'200': {'description': 'successful operation'}}}}, '/users/loginattempts/': {'get': {'tags': ['user'], 'summary': 'Login attempts', 'description': 'Number of attempts made by user for login', 'operationId': 'loginattempts', 'produces': ['application/xml', 'application/json'], 'parameters': [{'name': 'userid', 'in': 'path', 'type': 'integer', 'required': True, 'description': 'Id of the user'}], 'responses': {'200': {'description': 'successful operation'}}}}, '/user/class/count/': {'get': {'tags': ['user'], 'summary': 'Class count', 'description': 'Count of classes', 'operationId': 'classcount', 'produces': ['application/xml', 'application/json'], 'responses': {'200': {'description': 'successful operation'}}}}, '/user/constants/': {'get': {'tags': ['user'], 'summary': 'User constnat', 'description': 'User constants', 'operationId': 'userconstant', 'produces': ['application/xml', 'application/json'], 'parameters': [{'name': 'userid', 'in': 'path', 'type': 'integer', 'required': True, 'description': 'Id of the user'}], 'responses': {'200': {'description': 'successful operation'}}}}, '/user/risk/score/': {'get': {'tags': ['user'], 'summary': 'Risk score', 'description': 'Score associated with the risk', 'operationId': 'riskscore', 'produces': ['application/xml', 'application/json'], 'parameters': [{'name': 'userid', 'in': 'path', 'type': 'integer', 'required': True, 'description': 'Id of the user'}], 'responses': {'200': {'description': 'successful operation'}}}}}\n"
     ]
    }
   ],
   "source": [
    "for k, v in raw_data.items():\n",
    "    print(k, \"and\", v)"
   ]
  },
  {
   "cell_type": "code",
   "execution_count": 7,
   "metadata": {},
   "outputs": [],
   "source": [
    "new_file = \"new_file.json\""
   ]
  },
  {
   "cell_type": "code",
   "execution_count": 8,
   "metadata": {},
   "outputs": [],
   "source": [
    "raw_data = {\n",
    "    \"name\": \"Saket\",\n",
    "    \"Course\": \"BVoc\",\n",
    "    \"Semester\": 5,\n",
    "    \"email-id\": \"xyz@abc.in\"\n",
    "}"
   ]
  },
  {
   "cell_type": "code",
   "execution_count": 9,
   "metadata": {},
   "outputs": [],
   "source": [
    "with open(new_file, \"w\") as outfile:\n",
    "    json.dump(raw_data, outfile, indent=4)\n",
    "outfile.close()"
   ]
  },
  {
   "cell_type": "code",
   "execution_count": 10,
   "metadata": {},
   "outputs": [],
   "source": [
    "new_file1 = \"new_textfile.txt\""
   ]
  },
  {
   "cell_type": "code",
   "execution_count": 11,
   "metadata": {},
   "outputs": [],
   "source": [
    "raw_data = \"This is my class for software develpoment 5th semester\""
   ]
  },
  {
   "cell_type": "code",
   "execution_count": 12,
   "metadata": {},
   "outputs": [],
   "source": [
    "f = open(new_file1, \"w\")"
   ]
  },
  {
   "cell_type": "code",
   "execution_count": 13,
   "metadata": {},
   "outputs": [
    {
     "data": {
      "text/plain": [
       "54"
      ]
     },
     "execution_count": 13,
     "metadata": {},
     "output_type": "execute_result"
    }
   ],
   "source": [
    "f.write(raw_data)"
   ]
  },
  {
   "cell_type": "code",
   "execution_count": 14,
   "metadata": {},
   "outputs": [],
   "source": [
    "f.close()"
   ]
  },
  {
   "cell_type": "code",
   "execution_count": null,
   "metadata": {},
   "outputs": [],
   "source": []
  }
 ],
 "metadata": {
  "kernelspec": {
   "display_name": "Python 3",
   "language": "python",
   "name": "python3"
  },
  "language_info": {
   "codemirror_mode": {
    "name": "ipython",
    "version": 3
   },
   "file_extension": ".py",
   "mimetype": "text/x-python",
   "name": "python",
   "nbconvert_exporter": "python",
   "pygments_lexer": "ipython3",
   "version": "3.6.4"
  }
 },
 "nbformat": 4,
 "nbformat_minor": 2
}
