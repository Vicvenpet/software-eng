{
 "cells": [
  {
   "cell_type": "markdown",
   "metadata": {},
   "source": [
    "**A recusive Program: to find the factorial of  number**"
   ]
  },
  {
   "cell_type": "code",
   "execution_count": 1,
   "metadata": {},
   "outputs": [],
   "source": [
    "def find_fact(number):\n",
    "    if number == 0:\n",
    "        return 1\n",
    "    elif number > 0:\n",
    "        return number*find_fact(number - 1)    \n",
    "    else:\n",
    "        print(\"Entered number {} is incorrect\".format(number))\n",
    "        "
   ]
  },
  {
   "cell_type": "code",
   "execution_count": 5,
   "metadata": {},
   "outputs": [
    {
     "name": "stdout",
     "output_type": "stream",
     "text": [
      "Enter the number = 5\n",
      "Factorial of 5 is 120\n",
      "factorial of  5 is  120\n"
     ]
    }
   ],
   "source": [
    "n = int(input(\"Enter the number = \"))\n",
    "#f = find_fact(n)\n",
    "print(\"Factorial of {} is {}\".format(n, find_fact(n)))\n",
    "print(\"factorial of \", n, \"is \", find_fact(n))"
   ]
  },
  {
   "cell_type": "markdown",
   "metadata": {},
   "source": [
    "***Iterative Program to find the factorial of a number*"
   ]
  },
  {
   "cell_type": "code",
   "execution_count": 6,
   "metadata": {},
   "outputs": [],
   "source": [
    "def find_fact_itr(number):\n",
    "    factorial = 1\n",
    "    if number == 0:\n",
    "        return 1\n",
    "    elif number > 0:\n",
    "        while number > 0:\n",
    "            factorial = factorial*number\n",
    "            number = number - 1\n",
    "    else: \n",
    "        print(\"Entered number {} is incorrect\".format(number))\n",
    "    return factorial"
   ]
  },
  {
   "cell_type": "code",
   "execution_count": 7,
   "metadata": {},
   "outputs": [
    {
     "name": "stdout",
     "output_type": "stream",
     "text": [
      "Enter the number = 5\n",
      "Factorial of 5 is 120\n"
     ]
    }
   ],
   "source": [
    "n = int(input(\"Enter the number = \"))\n",
    "#f = find_fact(n)\n",
    "print(\"Factorial of {} is {}\".format(n, find_fact(n)))"
   ]
  },
  {
   "cell_type": "code",
   "execution_count": 24,
   "metadata": {},
   "outputs": [
    {
     "name": "stdout",
     "output_type": "stream",
     "text": [
      "0\n",
      "1\n",
      "0\n",
      "1\n",
      "0\n",
      "1\n",
      "--------------\n",
      "0\n"
     ]
    }
   ],
   "source": [
    "for i in range(2):\n",
    "    print(i)\n",
    "for j in range(2):\n",
    "    print(j)\n",
    "for k in range(2):\n",
    "    print(k)\n",
    "#----------\n",
    "print(\"--------------\")\n",
    "for i in range(1,3):\n",
    "    for j in range(i):\n",
    "        for k in range(j):\n",
    "            print(k)\n",
    "\n"
   ]
  },
  {
   "cell_type": "code",
   "execution_count": null,
   "metadata": {},
   "outputs": [],
   "source": []
  },
  {
   "cell_type": "code",
   "execution_count": null,
   "metadata": {},
   "outputs": [],
   "source": []
  },
  {
   "cell_type": "code",
   "execution_count": null,
   "metadata": {},
   "outputs": [],
   "source": []
  },
  {
   "cell_type": "code",
   "execution_count": null,
   "metadata": {},
   "outputs": [],
   "source": []
  }
 ],
 "metadata": {
  "kernelspec": {
   "display_name": "Python 3",
   "language": "python",
   "name": "python3"
  },
  "language_info": {
   "codemirror_mode": {
    "name": "ipython",
    "version": 3
   },
   "file_extension": ".py",
   "mimetype": "text/x-python",
   "name": "python",
   "nbconvert_exporter": "python",
   "pygments_lexer": "ipython3",
   "version": "3.6.4"
  }
 },
 "nbformat": 4,
 "nbformat_minor": 2
}
