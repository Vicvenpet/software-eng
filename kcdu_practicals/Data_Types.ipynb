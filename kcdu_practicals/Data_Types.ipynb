{
 "cells": [
  {
   "cell_type": "markdown",
   "metadata": {},
   "source": [
    "**Data types in Python**"
   ]
  },
  {
   "cell_type": "markdown",
   "metadata": {},
   "source": [
    "**\n",
    "1. String\n",
    "2. List\n",
    "3. Tuple\n",
    "4. Set\n",
    "5. Dictionary\n",
    "\n",
    "**"
   ]
  },
  {
   "cell_type": "code",
   "execution_count": 2,
   "metadata": {},
   "outputs": [
    {
     "name": "stdout",
     "output_type": "stream",
     "text": [
      "<class 'str'>\n",
      "3\n",
      "a\n",
      "b\n",
      "c\n"
     ]
    }
   ],
   "source": [
    "# String: strings are always remains in double / single quotes, it is immutable\n",
    "raw_str = \"abc\"\n",
    "print(type(raw_str))\n",
    "print(len(raw_str))\n",
    "for c in raw_str:\n",
    "    print(c)  # indentation"
   ]
  },
  {
   "cell_type": "code",
   "execution_count": 11,
   "metadata": {},
   "outputs": [
    {
     "name": "stdout",
     "output_type": "stream",
     "text": [
      "<class 'list'>\n",
      "0\n",
      "3\n",
      "4\n",
      "-------------------------------------\n",
      "1\n",
      "2\n",
      "3\n",
      "abc\n",
      "pqrew\n",
      "hdjks\n",
      "23\n",
      "abc\n",
      "hdjhjksdhjhdjks\n",
      "5\n",
      "abc\n",
      "pqrew\n",
      "hdjks\n",
      "hdjhjksdhjhdjks\n",
      "psssdsd\n"
     ]
    }
   ],
   "source": [
    "# List: list always has square brackets , it is mutable\n",
    "raw_list = []\n",
    "print(type(raw_list))\n",
    "print(len(raw_list))\n",
    "############################\n",
    "raw_list1 = [ 1, 2, 3]  # list of integres\n",
    "raw_list2 = [\"abc\", \"pqrew\", \"hdjks\", \"23\"]   # list of strings\n",
    "print(len(raw_list1))\n",
    "print(len(raw_list2))\n",
    "print(\"-------------------------------------\")\n",
    "for c in raw_list1:\n",
    "    print(c)\n",
    "for d in raw_list2:\n",
    "    print(d)\n",
    "    \n",
    "################################################\n",
    "\n",
    "print(raw_list2[0])\n",
    "\n",
    "#####################\n",
    "\n",
    "raw_list2[3]  = \"hdjhjksdhjhdjks\"\n",
    "\n",
    "print(raw_list2[3])\n",
    "\n",
    "raw_list2.append(\"psssdsd\")\n",
    "print(len(raw_list2))\n",
    "\n",
    "for l in raw_list2:\n",
    "    print(l)"
   ]
  },
  {
   "cell_type": "markdown",
   "metadata": {},
   "source": [
    "** Tuples**"
   ]
  },
  {
   "cell_type": "code",
   "execution_count": 10,
   "metadata": {},
   "outputs": [
    {
     "name": "stdout",
     "output_type": "stream",
     "text": [
      "<class 'tuple'>\n",
      "<class 'tuple'> 2\n",
      "<class 'tuple'> 2\n",
      "<class 'tuple'>\n",
      "2\n",
      "3\n"
     ]
    }
   ],
   "source": [
    "# Tuples: Tuples requires atleast one comma, and remains enclosed by  paranthes (it optional)\n",
    "# It is immutable\n",
    "raw_tuple = (2,3)\n",
    "raw_tuple1 = 2,4\n",
    "raw_tuple2 = ()\n",
    "print(type(raw_tuple2))\n",
    "print(type(raw_tuple), len(raw_tuple))\n",
    "print(type(raw_tuple1), len(raw_tuple1))\n",
    "raw_tpl = (3,)\n",
    "print(type(raw_tpl))\n",
    "ra_lst = [\"ds\"]\n",
    "raw_str22 = \"A\"\n",
    "\n",
    "for t in raw_tuple:\n",
    "    print(t)"
   ]
  },
  {
   "cell_type": "code",
   "execution_count": 12,
   "metadata": {},
   "outputs": [
    {
     "name": "stdout",
     "output_type": "stream",
     "text": [
      "<class 'dict'> 0\n",
      "I am the key name and my value is Saket\n",
      "I am the key course and my value is B.Voc\n",
      "I am the key semester and my value is 5\n",
      "I am the key sudent_name and my value is ['std1', 'std2', 'std3']\n",
      "dict_keys(['name', 'course', 'semester', 'sudent_name'])\n",
      "dict_values(['Saket', 'B.Voc', 5, ['std1', 'std2', 'std3']])\n"
     ]
    }
   ],
   "source": [
    "# Dictionary: Data remains in key and value pair format and remin enclosed by {}; it is also mutable\n",
    "\n",
    "raw_dict = {}\n",
    "print(type(raw_dict), len(raw_dict))\n",
    "\n",
    "raw_dict1 = {\n",
    "    \"name\": \"Saket\",\n",
    "    \"course\": \"B.Voc\",\n",
    "    \"semester\": 5,\n",
    "    \"sudent_name\": [\"std1\", \"std2\", \"std3\"]\n",
    "}\n",
    "\n",
    "for k, v in raw_dict1.items():\n",
    "    print(\"I am the key {} and my value is {}\".format(k, v))\n",
    "\n",
    "all_keys = raw_dict1.keys()\n",
    "print(all_keys)\n",
    "\n",
    "all_values = raw_dict1.values()\n",
    "print(all_values)\n",
    "\n"
   ]
  },
  {
   "cell_type": "code",
   "execution_count": 28,
   "metadata": {},
   "outputs": [
    {
     "name": "stdout",
     "output_type": "stream",
     "text": [
      "<class 'list'> <class 'list'>\n",
      "<class 'set'> <class 'set'>\n",
      "['A', 'B', 'C', 'D'] {'B', 'D', 'A', 'C'}\n",
      "Comman subject: {'C', 'A'}\n",
      "std1 has these different subjects from: std2 {'B', 'D'} \n",
      "std2 has these different subjects from: std1 {'Q', 'P'} \n"
     ]
    }
   ],
   "source": [
    "# Set: Set are also immutable\n",
    "std1 = [\"A\", \"B\", \"C\", \"D\"]\n",
    "std2 = [\"A\", \"C\", \"P\", \"Q\"]\n",
    "print(type(std1), type(std2))\n",
    "std1_set = set(std1)\n",
    "std2_set = set(std2)\n",
    "print(type(std1_set), type(std2_set))\n",
    "print(std1, std1_set)\n",
    "\n",
    "comman_subject = std1_set.intersection(std2_set)\n",
    "#comm = std2_set.intersection(std1_set)\n",
    "print(\"Comman subject: {}\".format(comman_subject))\n",
    "\n",
    "different_from_std2 = std1_set.difference(std2_set)\n",
    "print(\"std1 has these different subjects from: std2 {} \". format(different_from_std2))\n",
    "\n",
    "diffenet_from_std1 = std2_set.difference(std1_set)\n",
    "print(\"std2 has these different subjects from: std1 {} \". format(diffenet_from_std1))"
   ]
  },
  {
   "cell_type": "code",
   "execution_count": null,
   "metadata": {},
   "outputs": [],
   "source": []
  },
  {
   "cell_type": "code",
   "execution_count": null,
   "metadata": {},
   "outputs": [],
   "source": []
  },
  {
   "cell_type": "code",
   "execution_count": null,
   "metadata": {},
   "outputs": [],
   "source": []
  },
  {
   "cell_type": "code",
   "execution_count": null,
   "metadata": {},
   "outputs": [],
   "source": []
  },
  {
   "cell_type": "code",
   "execution_count": null,
   "metadata": {},
   "outputs": [],
   "source": []
  },
  {
   "cell_type": "code",
   "execution_count": null,
   "metadata": {},
   "outputs": [],
   "source": []
  },
  {
   "cell_type": "code",
   "execution_count": null,
   "metadata": {},
   "outputs": [],
   "source": []
  }
 ],
 "metadata": {
  "kernelspec": {
   "display_name": "Python 3",
   "language": "python",
   "name": "python3"
  },
  "language_info": {
   "codemirror_mode": {
    "name": "ipython",
    "version": 3
   },
   "file_extension": ".py",
   "mimetype": "text/x-python",
   "name": "python",
   "nbconvert_exporter": "python",
   "pygments_lexer": "ipython3",
   "version": "3.6.4"
  }
 },
 "nbformat": 4,
 "nbformat_minor": 2
}
