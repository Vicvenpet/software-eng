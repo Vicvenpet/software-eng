{
 "cells": [
  {
   "cell_type": "markdown",
   "metadata": {},
   "source": [
    "** Some example for string expression **"
   ]
  },
  {
   "cell_type": "code",
   "execution_count": 1,
   "metadata": {
    "collapsed": true
   },
   "outputs": [],
   "source": [
    "# pip install numpy  :: to install a package from command prompt\n",
    "# !pip install numpy  :: to install a package from jupyter notebook input cell"
   ]
  },
  {
   "cell_type": "code",
   "execution_count": 3,
   "metadata": {},
   "outputs": [],
   "source": [
    "# Some example for string "
   ]
  },
  {
   "cell_type": "code",
   "execution_count": 7,
   "metadata": {
    "collapsed": true
   },
   "outputs": [],
   "source": [
    "rawstr = \"saket kumrar fckldsm  &%*^&8-  Bdma b 789282%#12 345kljclksd\""
   ]
  },
  {
   "cell_type": "code",
   "execution_count": 8,
   "metadata": {},
   "outputs": [
    {
     "data": {
      "text/plain": [
       "60"
      ]
     },
     "execution_count": 8,
     "metadata": {},
     "output_type": "execute_result"
    }
   ],
   "source": [
    "len(rawstr)"
   ]
  },
  {
   "cell_type": "code",
   "execution_count": 9,
   "metadata": {},
   "outputs": [
    {
     "data": {
      "text/plain": [
       "'Saket kumrar fckldsm  &%*^&8-  bdma b 789282%#12 345kljclksd'"
      ]
     },
     "execution_count": 9,
     "metadata": {},
     "output_type": "execute_result"
    }
   ],
   "source": [
    "rawstr.capitalize()"
   ]
  },
  {
   "cell_type": "code",
   "execution_count": 11,
   "metadata": {},
   "outputs": [
    {
     "data": {
      "text/plain": [
       "'SAKET KUMRAR FCKLDSM  &%*^&8-  BDMA B 789282%#12 345KLJCLKSD'"
      ]
     },
     "execution_count": 11,
     "metadata": {},
     "output_type": "execute_result"
    }
   ],
   "source": [
    "urawstring = rawstr.upper()\n",
    "urawstring "
   ]
  },
  {
   "cell_type": "code",
   "execution_count": 12,
   "metadata": {},
   "outputs": [
    {
     "data": {
      "text/plain": [
       "'saket kumrar fckldsm  &%*^&8-  bdma b 789282%#12 345kljclksd'"
      ]
     },
     "execution_count": 12,
     "metadata": {},
     "output_type": "execute_result"
    }
   ],
   "source": [
    "urawstring.lower()"
   ]
  },
  {
   "cell_type": "code",
   "execution_count": 13,
   "metadata": {},
   "outputs": [
    {
     "data": {
      "text/plain": [
       "False"
      ]
     },
     "execution_count": 13,
     "metadata": {},
     "output_type": "execute_result"
    }
   ],
   "source": [
    "rawstr.isalnum()"
   ]
  },
  {
   "cell_type": "code",
   "execution_count": 14,
   "metadata": {},
   "outputs": [
    {
     "data": {
      "text/plain": [
       "False"
      ]
     },
     "execution_count": 14,
     "metadata": {},
     "output_type": "execute_result"
    }
   ],
   "source": [
    "rawstr.islower()"
   ]
  },
  {
   "cell_type": "code",
   "execution_count": 15,
   "metadata": {},
   "outputs": [
    {
     "data": {
      "text/plain": [
       "True"
      ]
     },
     "execution_count": 15,
     "metadata": {},
     "output_type": "execute_result"
    }
   ],
   "source": [
    "rawstr.isprintable()"
   ]
  },
  {
   "cell_type": "code",
   "execution_count": 16,
   "metadata": {
    "collapsed": true
   },
   "outputs": [],
   "source": [
    "rawstrlist = rawstr.split()"
   ]
  },
  {
   "cell_type": "code",
   "execution_count": 17,
   "metadata": {},
   "outputs": [
    {
     "data": {
      "text/plain": [
       "['saket',\n",
       " 'kumrar',\n",
       " 'fckldsm',\n",
       " '&%*^&8-',\n",
       " 'Bdma',\n",
       " 'b',\n",
       " '789282%#12',\n",
       " '345kljclksd']"
      ]
     },
     "execution_count": 17,
     "metadata": {},
     "output_type": "execute_result"
    }
   ],
   "source": [
    "rawstrlist"
   ]
  },
  {
   "cell_type": "code",
   "execution_count": 19,
   "metadata": {},
   "outputs": [
    {
     "name": "stdout",
     "output_type": "stream",
     "text": [
      "True\n",
      "True\n",
      "True\n",
      "False\n",
      "False\n",
      "True\n",
      "False\n",
      "True\n"
     ]
    }
   ],
   "source": [
    "for r in rawstrlist:\n",
    "    print(r.islower())"
   ]
  },
  {
   "cell_type": "code",
   "execution_count": 20,
   "metadata": {},
   "outputs": [
    {
     "data": {
      "text/plain": [
       "True"
      ]
     },
     "execution_count": 20,
     "metadata": {},
     "output_type": "execute_result"
    }
   ],
   "source": [
    "a = \"123safd\"\n",
    "a.islower()"
   ]
  },
  {
   "cell_type": "code",
   "execution_count": 21,
   "metadata": {},
   "outputs": [
    {
     "data": {
      "text/plain": [
       "False"
      ]
     },
     "execution_count": 21,
     "metadata": {},
     "output_type": "execute_result"
    }
   ],
   "source": [
    "a.isdigit()"
   ]
  },
  {
   "cell_type": "code",
   "execution_count": 22,
   "metadata": {},
   "outputs": [
    {
     "data": {
      "text/plain": [
       "True"
      ]
     },
     "execution_count": 22,
     "metadata": {},
     "output_type": "execute_result"
    }
   ],
   "source": [
    "b = \"1223456\"\n",
    "b.isdigit()"
   ]
  },
  {
   "cell_type": "code",
   "execution_count": 23,
   "metadata": {},
   "outputs": [
    {
     "data": {
      "text/plain": [
       "True"
      ]
     },
     "execution_count": 23,
     "metadata": {},
     "output_type": "execute_result"
    }
   ],
   "source": [
    "b.isnumeric()"
   ]
  },
  {
   "cell_type": "code",
   "execution_count": 24,
   "metadata": {},
   "outputs": [
    {
     "data": {
      "text/plain": [
       "False"
      ]
     },
     "execution_count": 24,
     "metadata": {},
     "output_type": "execute_result"
    }
   ],
   "source": [
    "a.isnumeric()"
   ]
  },
  {
   "cell_type": "code",
   "execution_count": 25,
   "metadata": {},
   "outputs": [
    {
     "data": {
      "text/plain": [
       "False"
      ]
     },
     "execution_count": 25,
     "metadata": {},
     "output_type": "execute_result"
    }
   ],
   "source": [
    "c = \"-13245\"\n",
    "c.isdigit()"
   ]
  },
  {
   "cell_type": "code",
   "execution_count": 26,
   "metadata": {},
   "outputs": [
    {
     "data": {
      "text/plain": [
       "False"
      ]
     },
     "execution_count": 26,
     "metadata": {},
     "output_type": "execute_result"
    }
   ],
   "source": [
    "c.isnumeric()"
   ]
  },
  {
   "cell_type": "code",
   "execution_count": 27,
   "metadata": {},
   "outputs": [
    {
     "data": {
      "text/plain": [
       "'saket kumrar fckldsm  &%*^&8-  Bdma b 789282%#12 345kljclksd'"
      ]
     },
     "execution_count": 27,
     "metadata": {},
     "output_type": "execute_result"
    }
   ],
   "source": [
    "rawstr"
   ]
  },
  {
   "cell_type": "markdown",
   "metadata": {},
   "source": [
    "**Some Example for regular expression**"
   ]
  },
  {
   "cell_type": "code",
   "execution_count": 1,
   "metadata": {},
   "outputs": [],
   "source": [
    "import re"
   ]
  },
  {
   "cell_type": "code",
   "execution_count": 2,
   "metadata": {},
   "outputs": [
    {
     "ename": "NameError",
     "evalue": "name 'rawstr' is not defined",
     "output_type": "error",
     "traceback": [
      "\u001b[1;31m---------------------------------------------------------------------------\u001b[0m",
      "\u001b[1;31mNameError\u001b[0m                                 Traceback (most recent call last)",
      "\u001b[1;32m<ipython-input-2-5bd11ff4ba3a>\u001b[0m in \u001b[0;36m<module>\u001b[1;34m()\u001b[0m\n\u001b[0;32m      1\u001b[0m \u001b[0mre_obj\u001b[0m \u001b[1;33m=\u001b[0m \u001b[0mre\u001b[0m\u001b[1;33m.\u001b[0m\u001b[0mcompile\u001b[0m\u001b[1;33m(\u001b[0m\u001b[1;34mr\"\\d\"\u001b[0m\u001b[1;33m)\u001b[0m\u001b[1;33m\u001b[0m\u001b[0m\n\u001b[1;32m----> 2\u001b[1;33m \u001b[0mre\u001b[0m\u001b[1;33m.\u001b[0m\u001b[0mfindall\u001b[0m\u001b[1;33m(\u001b[0m\u001b[0mre_obj\u001b[0m\u001b[1;33m,\u001b[0m \u001b[0mrawstr\u001b[0m\u001b[1;33m)\u001b[0m\u001b[1;33m\u001b[0m\u001b[0m\n\u001b[0m",
      "\u001b[1;31mNameError\u001b[0m: name 'rawstr' is not defined"
     ]
    }
   ],
   "source": [
    "re_obj = re.compile(r\"\\d\")\n",
    "re.findall(re_obj, rawstr)"
   ]
  },
  {
   "cell_type": "code",
   "execution_count": 7,
   "metadata": {},
   "outputs": [
    {
     "name": "stdout",
     "output_type": "stream",
     "text": [
      "Multiple Keys Matching ['saket ', ' shubham']\n"
     ]
    }
   ],
   "source": [
    "re_obj = re.compile(r'saket | shubham')   # Pipeline sing '|' \n",
    "name = re_obj.findall('saket kumar and shubham saket')\n",
    "print(\"Multiple Keys Matching\",name)"
   ]
  },
  {
   "cell_type": "code",
   "execution_count": 8,
   "metadata": {},
   "outputs": [
    {
     "name": "stdout",
     "output_type": "stream",
     "text": [
      "Single search <_sre.SRE_Match object; span=(0, 7), match='Shubham'>\n"
     ]
    }
   ],
   "source": [
    "reObj = re.compile(r'Shu(bham|ku|ch)')\n",
    "newName = reObj.search('Shubham kumar') # single search \n",
    "print(\"Single search\",newName)"
   ]
  },
  {
   "cell_type": "code",
   "execution_count": 10,
   "metadata": {},
   "outputs": [
    {
     "name": "stdout",
     "output_type": "stream",
     "text": [
      "optional matching <_sre.SRE_Match object; span=(0, 7), match='saketch'>\n"
     ]
    }
   ],
   "source": [
    "re_obj2 = re.compile(r'sak(et)?ch') #first checks outer part if matches then matches optional part \n",
    "newName3 = re_obj2.search('saketch kumar')\n",
    "print(\"optional matching\",newName3)"
   ]
  },
  {
   "cell_type": "code",
   "execution_count": 13,
   "metadata": {},
   "outputs": [
    {
     "name": "stdout",
     "output_type": "stream",
     "text": [
      "<_sre.SRE_Match object; span=(7, 13), match='Batman'>\n",
      "<_sre.SRE_Match object; span=(7, 15), match='Batwoman'>\n",
      "<_sre.SRE_Match object; span=(7, 13), match='Batman'>\n"
     ]
    }
   ],
   "source": [
    "#Multiple Matching start here !\n",
    "re_obj4 = re.compile(r'Bat(wo)*man') # '*' works even on zero occurrence\n",
    "\n",
    "name5 = re_obj4.search('I am a Batman')\n",
    "print(name5)\n",
    "name6 = re_obj4.search('I am a Batwoman')\n",
    "print(name6)\n",
    "name7 = re_obj4.search('I am a Batwowowoman')\n",
    "print(name5)\n"
   ]
  },
  {
   "cell_type": "code",
   "execution_count": 18,
   "metadata": {},
   "outputs": [
    {
     "name": "stdout",
     "output_type": "stream",
     "text": [
      "<_sre.SRE_Match object; span=(7, 15), match='Batwoman'>\n"
     ]
    }
   ],
   "source": [
    "re_obj5 = re.compile(r'Bat(wo)+man') # '+' works with minimum one occurrence\n",
    "name8 = re_obj5.search('I am a Batwoman')\n",
    "print(name8)"
   ]
  },
  {
   "cell_type": "code",
   "execution_count": 19,
   "metadata": {},
   "outputs": [
    {
     "name": "stdout",
     "output_type": "stream",
     "text": [
      "<_sre.SRE_Match object; span=(0, 6), match='wowowo'> None <_sre.SRE_Match object; span=(0, 6), match='wowowo'>\n"
     ]
    }
   ],
   "source": [
    "re_obj6 = re.compile(r'(wo){3}')\n",
    "name8 = re_obj6.search('wowowo this is ')\n",
    "name9 = re_obj6.search('wowo this is ')\n",
    "name10 = re_obj6.search('wowowowo this is ')\n",
    "\n",
    "print(name8,name9,name10)\n"
   ]
  },
  {
   "cell_type": "code",
   "execution_count": 21,
   "metadata": {},
   "outputs": [
    {
     "name": "stdout",
     "output_type": "stream",
     "text": [
      "['wo', 'wo', 'wo']\n"
     ]
    }
   ],
   "source": [
    "# Greedy matching \n",
    "re_obj7 = re.compile(r'(wo){1,3}')\n",
    "name11 = re_obj7.findall('wo wowo wowowo  this is ')\n",
    "print(name11)"
   ]
  },
  {
   "cell_type": "code",
   "execution_count": 25,
   "metadata": {},
   "outputs": [
    {
     "data": {
      "text/plain": [
       "'\\n\\\\d = Matches digits. Equivalent to [0-9].\\n\\\\D = Matches nondigits.\\n\\\\A = Matches beginning of string.\\n\\\\Z = Matches end of string. If a newline exists, it matches just before newline.\\n\\\\z = Matches end of string.\\n\\\\G = Matches point where last match finished.\\n\\\\w = Matches word characters.\\n\\\\W = Matches nonword characters.\\n\\\\s = Matches whitespace. Equivalent to [\\t\\n\\r\\x0c].\\n^ = Matches beginning of line.\\n$ = Matches end of line.\\n. = Matches any single character except newline. Using m option allows it to match newline as well.\\n'"
      ]
     },
     "execution_count": 25,
     "metadata": {},
     "output_type": "execute_result"
    }
   ],
   "source": [
    "# Charater Classes\n",
    "\"\"\"\n",
    "\\d = Matches digits. Equivalent to [0-9].\n",
    "\\D = Matches nondigits.\n",
    "\\A = Matches beginning of string.\n",
    "\\Z = Matches end of string. If a newline exists, it matches just before newline.\n",
    "\\z = Matches end of string.\n",
    "\\G = Matches point where last match finished.\n",
    "\\w = Matches word characters.\n",
    "\\W = Matches nonword characters.\n",
    "\\s = Matches whitespace. Equivalent to [\\t\\n\\r\\f].\n",
    "^ = Matches beginning of line.\n",
    "$ = Matches end of line.\n",
    ". = Matches any single character except newline. Using m option allows it to match newline as well.\n",
    "\"\"\""
   ]
  },
  {
   "cell_type": "code",
   "execution_count": 26,
   "metadata": {},
   "outputs": [
    {
     "name": "stdout",
     "output_type": "stream",
     "text": [
      "['i', 'i', 'o', 'a', 'o', 'o', 'I', 'a']\n"
     ]
    }
   ],
   "source": [
    "re_obj12= re.compile(r'[aeiouAEIOU]')\n",
    "obj=re_obj12.findall('This is my own class room I am')\n",
    "print(obj)"
   ]
  },
  {
   "cell_type": "code",
   "execution_count": 27,
   "metadata": {},
   "outputs": [
    {
     "name": "stdout",
     "output_type": "stream",
     "text": [
      "['T', 'h', 's', ' ', 's', ' ', 'm', 'y', ' ', 'w', 'n', ' ', 'c', 'l', 's', 's', ' ', 'r', 'm', ' ', ' ', 'm']\n"
     ]
    }
   ],
   "source": [
    "re_obj13= re.compile(r'[^aeiouAEIOU]')\n",
    "obj13=re_obj13.findall('This is my own class room I am')\n",
    "print(obj13)"
   ]
  },
  {
   "cell_type": "code",
   "execution_count": 32,
   "metadata": {},
   "outputs": [
    {
     "name": "stdout",
     "output_type": "stream",
     "text": [
      "None <_sre.SRE_Match object; span=(8, 9), match='8'>\n",
      "['8', '4']\n"
     ]
    }
   ],
   "source": [
    "re_obj15 = re.compile(r'\\d')\n",
    "char3 = re_obj15.search('This is ')\n",
    "char4 = re_obj15.search('This is 84 abc 5')\n",
    "print(char3, char4)\n",
    "char5 = re_obj15.findall('This is 84')\n",
    "print(char5)\n"
   ]
  },
  {
   "cell_type": "code",
   "execution_count": null,
   "metadata": {},
   "outputs": [],
   "source": []
  },
  {
   "cell_type": "code",
   "execution_count": null,
   "metadata": {},
   "outputs": [],
   "source": []
  }
 ],
 "metadata": {
  "kernelspec": {
   "display_name": "Python 3",
   "language": "python",
   "name": "python3"
  },
  "language_info": {
   "codemirror_mode": {
    "name": "ipython",
    "version": 3
   },
   "file_extension": ".py",
   "mimetype": "text/x-python",
   "name": "python",
   "nbconvert_exporter": "python",
   "pygments_lexer": "ipython3",
   "version": "3.6.4"
  }
 },
 "nbformat": 4,
 "nbformat_minor": 2
}
