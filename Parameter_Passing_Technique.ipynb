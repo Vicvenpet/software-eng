{
 "cells": [
  {
   "cell_type": "markdown",
   "metadata": {},
   "source": [
    "## Parameter Passing Techniques\n",
    "[1] Copy-Value Technique\n",
    "\n",
    "[2] Default-Value Technique\n",
    "\n",
    "[3] Keyword-Argument Technique\n",
    "\n",
    "[4] Variable Argument Technique  (Pass a list)\n",
    "\n",
    "[5] Variable Argument Technique  (Pass a dictionary like element)"
   ]
  },
  {
   "cell_type": "markdown",
   "metadata": {},
   "source": [
    "### [1] Copy-Value Technique"
   ]
  },
  {
   "cell_type": "code",
   "execution_count": 1,
   "metadata": {},
   "outputs": [],
   "source": [
    "# Function to compute the volume of sphere (V = 4/3*pi*r^3)\n",
    "\n",
    "def volume_sphere(radius):\n",
    "    volume = (4*3.14*radius**3)/3\n",
    "    return volume"
   ]
  },
  {
   "cell_type": "code",
   "execution_count": 2,
   "metadata": {},
   "outputs": [
    {
     "data": {
      "text/plain": [
       "4.1866666666666665"
      ]
     },
     "execution_count": 2,
     "metadata": {},
     "output_type": "execute_result"
    }
   ],
   "source": [
    "volume_sphere(1)"
   ]
  },
  {
   "cell_type": "code",
   "execution_count": 3,
   "metadata": {},
   "outputs": [],
   "source": [
    "# Function to compute the volume of Cuboid (V = length*width*height)\n",
    "def volume_cuboid(length, width, height):\n",
    "    return length*width*height"
   ]
  },
  {
   "cell_type": "code",
   "execution_count": 4,
   "metadata": {},
   "outputs": [
    {
     "data": {
      "text/plain": [
       "40"
      ]
     },
     "execution_count": 4,
     "metadata": {},
     "output_type": "execute_result"
    }
   ],
   "source": [
    "l = 4;\n",
    "w = 5; \n",
    "h = 2;\n",
    "volume_cuboid(l, w, h)"
   ]
  },
  {
   "cell_type": "markdown",
   "metadata": {},
   "source": [
    "## [2] Default-Value Technique"
   ]
  },
  {
   "cell_type": "code",
   "execution_count": 5,
   "metadata": {},
   "outputs": [],
   "source": [
    "# Function to compute the volume of Cuboid (V = length*width*height)\n",
    "def volume_cuboid1(length, width, height=1):\n",
    "    return length*width*height"
   ]
  },
  {
   "cell_type": "code",
   "execution_count": 6,
   "metadata": {},
   "outputs": [],
   "source": [
    "# Function to compute the volume of Cuboid (V = length*width*height)\n",
    "def volume_cuboid2(length, width=2, height=3):\n",
    "    return length*width*height"
   ]
  },
  {
   "cell_type": "code",
   "execution_count": 7,
   "metadata": {},
   "outputs": [],
   "source": [
    "# Function to compute the volume of Cuboid (V = length*width*height)\n",
    "def volume_cuboid3(length=5, width=2, height=1):\n",
    "    return length*width*height"
   ]
  },
  {
   "cell_type": "code",
   "execution_count": 8,
   "metadata": {},
   "outputs": [
    {
     "data": {
      "text/plain": [
       "30"
      ]
     },
     "execution_count": 8,
     "metadata": {},
     "output_type": "execute_result"
    }
   ],
   "source": [
    "volume_cuboid1(3,2,5)"
   ]
  },
  {
   "cell_type": "code",
   "execution_count": 9,
   "metadata": {},
   "outputs": [
    {
     "data": {
      "text/plain": [
       "6"
      ]
     },
     "execution_count": 9,
     "metadata": {},
     "output_type": "execute_result"
    }
   ],
   "source": [
    "volume_cuboid1(3,2)"
   ]
  },
  {
   "cell_type": "code",
   "execution_count": 10,
   "metadata": {},
   "outputs": [
    {
     "data": {
      "text/plain": [
       "30"
      ]
     },
     "execution_count": 10,
     "metadata": {},
     "output_type": "execute_result"
    }
   ],
   "source": [
    "volume_cuboid2(5)"
   ]
  },
  {
   "cell_type": "code",
   "execution_count": 11,
   "metadata": {},
   "outputs": [
    {
     "data": {
      "text/plain": [
       "10"
      ]
     },
     "execution_count": 11,
     "metadata": {},
     "output_type": "execute_result"
    }
   ],
   "source": [
    "volume_cuboid3()"
   ]
  },
  {
   "cell_type": "code",
   "execution_count": 12,
   "metadata": {},
   "outputs": [
    {
     "data": {
      "text/plain": [
       "72"
      ]
     },
     "execution_count": 12,
     "metadata": {},
     "output_type": "execute_result"
    }
   ],
   "source": [
    "volume_cuboid2(3,4,6)"
   ]
  },
  {
   "cell_type": "markdown",
   "metadata": {},
   "source": [
    "## [3] Keyword-Argument Technique"
   ]
  },
  {
   "cell_type": "code",
   "execution_count": 13,
   "metadata": {},
   "outputs": [],
   "source": [
    "# Function to Compute the Surface Area of Cuboid S = 2(l*w + w*h + h*l)\n",
    "def surface_area_cuboid(length, width, height):\n",
    "    return 2*(length*width + width*height + height*length)"
   ]
  },
  {
   "cell_type": "code",
   "execution_count": 14,
   "metadata": {},
   "outputs": [
    {
     "data": {
      "text/plain": [
       "52"
      ]
     },
     "execution_count": 14,
     "metadata": {},
     "output_type": "execute_result"
    }
   ],
   "source": [
    "surface_area_cuboid(2,3,4)  # Copy-Value Technique"
   ]
  },
  {
   "cell_type": "code",
   "execution_count": 15,
   "metadata": {},
   "outputs": [
    {
     "data": {
      "text/plain": [
       "52"
      ]
     },
     "execution_count": 15,
     "metadata": {},
     "output_type": "execute_result"
    }
   ],
   "source": [
    "surface_area_cuboid(length=2, width=3,height=4)  # Keyword-Argument Technique"
   ]
  },
  {
   "cell_type": "code",
   "execution_count": 16,
   "metadata": {},
   "outputs": [
    {
     "data": {
      "text/plain": [
       "52"
      ]
     },
     "execution_count": 16,
     "metadata": {},
     "output_type": "execute_result"
    }
   ],
   "source": [
    "surface_area_cuboid(width=3, length=2, height=4)  # Keyword-Argument Technique"
   ]
  },
  {
   "cell_type": "code",
   "execution_count": 17,
   "metadata": {},
   "outputs": [
    {
     "data": {
      "text/plain": [
       "52"
      ]
     },
     "execution_count": 17,
     "metadata": {},
     "output_type": "execute_result"
    }
   ],
   "source": [
    "surface_area_cuboid(height=4, width=3, length=2)   # Keyword-Argument Technique"
   ]
  },
  {
   "cell_type": "markdown",
   "metadata": {},
   "source": [
    "## [4] Variable Argument Technique (Pass a list)"
   ]
  },
  {
   "cell_type": "code",
   "execution_count": 18,
   "metadata": {},
   "outputs": [],
   "source": [
    "def print_sum(*value):     # value is a list :  one * is used to define\n",
    "    total = 0;\n",
    "    for v in value:\n",
    "        total +=v\n",
    "    return total"
   ]
  },
  {
   "cell_type": "code",
   "execution_count": 19,
   "metadata": {},
   "outputs": [
    {
     "data": {
      "text/plain": [
       "5"
      ]
     },
     "execution_count": 19,
     "metadata": {},
     "output_type": "execute_result"
    }
   ],
   "source": [
    "print_sum(2,3)"
   ]
  },
  {
   "cell_type": "code",
   "execution_count": 20,
   "metadata": {},
   "outputs": [
    {
     "data": {
      "text/plain": [
       "44"
      ]
     },
     "execution_count": 20,
     "metadata": {},
     "output_type": "execute_result"
    }
   ],
   "source": [
    "print_sum(2,3, 4, 5, 10, 20)"
   ]
  },
  {
   "cell_type": "code",
   "execution_count": 21,
   "metadata": {},
   "outputs": [],
   "source": [
    "def print_name(*names):\n",
    "    for one_name in names:\n",
    "        print(one_name)\n",
    "    return"
   ]
  },
  {
   "cell_type": "code",
   "execution_count": 22,
   "metadata": {},
   "outputs": [
    {
     "name": "stdout",
     "output_type": "stream",
     "text": [
      "Today's ATTENDANCE ____________________\n",
      "\n",
      "Anjali\n",
      "Ankita\n",
      "Ashutosh\n",
      "Azad\n",
      "Chirag\n",
      "Deepanshu\n",
      "Gautam B\n",
      "Gautam G\n",
      "Krishan\n",
      "Mahak\n",
      "Mayank\n",
      "Pawan\n",
      "Pratham\n",
      "Pratibha\n",
      "Rajat\n",
      "Tushar P.\n",
      "Tushar R.\n",
      "Yuvraj\n",
      "Zohir\n",
      "Manmeet\n",
      "Purva\n"
     ]
    }
   ],
   "source": [
    "print(\"Today's ATTENDANCE ____________________\\n\")\n",
    "print_name(\"Anjali\", \"Ankita\", \"Ashutosh\", \"Azad\", \"Chirag\", \"Deepanshu\", \"Gautam B\",\\\n",
    "           \"Gautam G\", \"Krishan\", \"Mahak\", \"Mayank\", \"Pawan\", \"Pratham\", \"Pratibha\", \"Rajat\",\\\n",
    "           \"Tushar P.\", \"Tushar R.\", \"Yuvraj\", \"Zohir\", \"Manmeet\", \"Purva\")"
   ]
  },
  {
   "cell_type": "markdown",
   "metadata": {},
   "source": [
    "## [5] Variable Argument Technique (Pass a dictionary like element)"
   ]
  },
  {
   "cell_type": "code",
   "execution_count": 32,
   "metadata": {},
   "outputs": [],
   "source": [
    "def print_name_roll(**name_roll):   #value is a dictionary element :  one ** is used to define\n",
    "    for key in name_roll:\n",
    "        print(key, name_roll[key])\n",
    "    return"
   ]
  },
  {
   "cell_type": "code",
   "execution_count": 33,
   "metadata": {},
   "outputs": [
    {
     "name": "stdout",
     "output_type": "stream",
     "text": [
      "name Saket\n",
      "roll_no 10\n",
      "classes BCA-VB\n"
     ]
    }
   ],
   "source": [
    "print_name_roll(name=\"Saket\", roll_no = 10, classes = \"BCA-VB\")"
   ]
  },
  {
   "cell_type": "code",
   "execution_count": null,
   "metadata": {},
   "outputs": [],
   "source": []
  }
 ],
 "metadata": {
  "kernelspec": {
   "display_name": "Python 3",
   "language": "python",
   "name": "python3"
  },
  "language_info": {
   "codemirror_mode": {
    "name": "ipython",
    "version": 3
   },
   "file_extension": ".py",
   "mimetype": "text/x-python",
   "name": "python",
   "nbconvert_exporter": "python",
   "pygments_lexer": "ipython3",
   "version": "3.8.5"
  }
 },
 "nbformat": 4,
 "nbformat_minor": 4
}
