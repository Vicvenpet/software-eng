{
 "cells": [
  {
   "cell_type": "markdown",
   "metadata": {},
   "source": [
    "## Control Flow\n",
    "#### if-else\n",
    "#### for\n",
    "#### while\n",
    "#### do-while\n",
    "#### continue\n",
    "#### break"
   ]
  },
  {
   "cell_type": "code",
   "execution_count": 7,
   "metadata": {},
   "outputs": [
    {
     "name": "stdout",
     "output_type": "stream",
     "text": [
      "Enter the number= 54\n",
      "Entered number 54 is an Even number\n"
     ]
    }
   ],
   "source": [
    "# Print Even-Odd  (Simple if-else)\n",
    "number = int(input(\"Enter the number= \"))  # for getting input for key-board\n",
    "if number % 2 == 0:\n",
    "    print(\"Entered number {0} is an Even number\".format(number))  # Indentation\n",
    "else:\n",
    "    print(\"Entered number {0} is an Odd number\".format(number))"
   ]
  },
  {
   "cell_type": "code",
   "execution_count": 14,
   "metadata": {},
   "outputs": [
    {
     "name": "stdout",
     "output_type": "stream",
     "text": [
      "Enter the Percentage = 75\n",
      "First Division with honrs.\n"
     ]
    }
   ],
   "source": [
    "# Print Grade  (Else-if ladder)\n",
    "perctge =  float(input(\"Enter the Percentage = \"))\n",
    "if perctge >= 75.0:\n",
    "    print(\"First Division with honrs.\")\n",
    "elif perctge < 75 and perctge >= 60.0:\n",
    "    print(\"First Division\")\n",
    "elif perctge < 60 and perctge >= 45.0:\n",
    "    print(\"Second Division\")\n",
    "elif perctge < 45 and perctge > 35.0:\n",
    "    print(\"Third Division\")\n",
    "else:\n",
    "    print(\"Fail\")"
   ]
  },
  {
   "cell_type": "code",
   "execution_count": null,
   "metadata": {},
   "outputs": [],
   "source": []
  }
 ],
 "metadata": {
  "kernelspec": {
   "display_name": "Python 3",
   "language": "python",
   "name": "python3"
  },
  "language_info": {
   "codemirror_mode": {
    "name": "ipython",
    "version": 3
   },
   "file_extension": ".py",
   "mimetype": "text/x-python",
   "name": "python",
   "nbconvert_exporter": "python",
   "pygments_lexer": "ipython3",
   "version": "3.8.5"
  }
 },
 "nbformat": 4,
 "nbformat_minor": 4
}
