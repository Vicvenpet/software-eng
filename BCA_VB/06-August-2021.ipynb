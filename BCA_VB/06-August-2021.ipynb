{
 "cells": [
  {
   "cell_type": "markdown",
   "metadata": {},
   "source": [
    "## Syllabus Practicals"
   ]
  },
  {
   "cell_type": "markdown",
   "metadata": {},
   "source": [
    "##### Create a program that asks user to enter their name and their age. Print out a message addressed to them that tells them the year that they will turn 100 years old."
   ]
  },
  {
   "cell_type": "code",
   "execution_count": 1,
   "metadata": {},
   "outputs": [
    {
     "name": "stdout",
     "output_type": "stream",
     "text": [
      "Please enter your name:  Dr. Saket\n",
      "Please enter your age:  35\n",
      "Hi Dr. Saket, after 100 years, you will be 135 old\n"
     ]
    }
   ],
   "source": [
    "name = input(\"Please enter your name:  \")\n",
    "age = int(input(\"Please enter your age:  \"))\n",
    "print(\"Hi {}, after 100 years, you will be {} old.\".format(name, age + 100))"
   ]
  },
  {
   "cell_type": "markdown",
   "metadata": {},
   "source": [
    "###### Ask the user for a number. Depending on whether the number is even or odd, print out an appropriate message to the user."
   ]
  },
  {
   "cell_type": "code",
   "execution_count": 4,
   "metadata": {},
   "outputs": [
    {
     "name": "stdout",
     "output_type": "stream",
     "text": [
      "Please enter a number :  35\n",
      "You have entered an odd number.\n"
     ]
    }
   ],
   "source": [
    "number = input(\"Please enter a number :  \")    # input always return a string\n",
    "number = int(number)                           # typecasting\n",
    "reminder = number %2\n",
    "if reminder == 0:\n",
    "    print(\"You have entered an even number.\")\n",
    "else:\n",
    "    print(\"You have entered an odd number.\")"
   ]
  },
  {
   "cell_type": "code",
   "execution_count": null,
   "metadata": {},
   "outputs": [],
   "source": []
  },
  {
   "cell_type": "markdown",
   "metadata": {},
   "source": [
    "##### 3.\tTake a list, say for example this one:\n",
    "\t a = [1, 1, 2, 3, 5, 8, 13, 21, 34, 55, 89]\n",
    "and write a program that prints out all the elements of the list that are less than 5.\n",
    "\n",
    "###### Extras:\n",
    "\n",
    "a)\tInstead of printing the elements one by one, make a new list that has all the elements less than 5 from this list in it and print out this new list.\n",
    "\n",
    "b)\tWrite this in one line of Python.\n",
    "\n",
    "c)\tAsk the user for a number and return a list that contains only elements from the original \n",
    "list a that are smaller than that number given by the user.\n"
   ]
  },
  {
   "cell_type": "code",
   "execution_count": 5,
   "metadata": {},
   "outputs": [
    {
     "name": "stdout",
     "output_type": "stream",
     "text": [
      "Element is  1\n",
      "Element is  1\n",
      "Element is  2\n",
      "Element is  3\n"
     ]
    }
   ],
   "source": [
    "list_given = [1, 1, 2, 3, 5, 8, 13, 21, 34, 55, 89]\n",
    "for one_element in list_given:\n",
    "    if one_element < 5:\n",
    "        print(\"Element is \", one_element)"
   ]
  },
  {
   "cell_type": "code",
   "execution_count": 13,
   "metadata": {},
   "outputs": [
    {
     "name": "stdout",
     "output_type": "stream",
     "text": [
      "Enter the size of list:  6\n",
      "Enter the element of list:  3\n",
      "Enter the element of list:  8\n",
      "Enter the element of list:  2\n",
      "Enter the element of list:  0\n",
      "Enter the element of list:  4\n",
      "Enter the element of list:  5\n",
      "Values less than 5 are -------------------\n",
      "Element is  3\n",
      "Element is  2\n",
      "Element is  0\n",
      "Element is  4\n"
     ]
    }
   ],
   "source": [
    "list_given1 = []               # Empety list\n",
    "list_size = int(input(\"Enter the size of list:  \"))\n",
    "\n",
    "for i in range(list_size):\n",
    "    list_given1.append(int(input(\"Enter the element of list:  \")))\n",
    "    \n",
    "print(\"Values less than 5 are -------------------\")\n",
    "    \n",
    "for one_element in list_given1:\n",
    "    if one_element < 5:\n",
    "        print(\"Element is \", one_element)"
   ]
  },
  {
   "cell_type": "code",
   "execution_count": 10,
   "metadata": {},
   "outputs": [
    {
     "name": "stdout",
     "output_type": "stream",
     "text": [
      "0\n",
      "1\n",
      "2\n",
      "3\n",
      "4\n",
      "5\n"
     ]
    }
   ],
   "source": [
    "x = range(6)\n",
    "for e in x:\n",
    "    print(e)\n"
   ]
  },
  {
   "cell_type": "code",
   "execution_count": null,
   "metadata": {},
   "outputs": [],
   "source": []
  }
 ],
 "metadata": {
  "kernelspec": {
   "display_name": "Python 3",
   "language": "python",
   "name": "python3"
  },
  "language_info": {
   "codemirror_mode": {
    "name": "ipython",
    "version": 3
   },
   "file_extension": ".py",
   "mimetype": "text/x-python",
   "name": "python",
   "nbconvert_exporter": "python",
   "pygments_lexer": "ipython3",
   "version": "3.8.5"
  }
 },
 "nbformat": 4,
 "nbformat_minor": 4
}
